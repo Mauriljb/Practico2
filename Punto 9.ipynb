{
 "cells": [
  {
   "cell_type": "markdown",
   "metadata": {},
   "source": [
    "Remuestreo Bootstrap\n",
    "\n",
    "Diseñe, implemente y verifique una función, que estime la varianza de una V.A. a partir de una muestra de\n",
    "datos. A continuación, implemente una función que utilize boostrap resampling para calcular los intervalos\n",
    "de confidencia del estimador de la varianza con un nivel de significancia dado $\\alpha$."
   ]
  },
  {
   "cell_type": "code",
   "execution_count": 20,
   "metadata": {},
   "outputs": [],
   "source": [
    "import matplotlib.pyplot as plt\n",
    "import math\n",
    "import random\n",
    "import numpy as np\n",
    "from scipy import stats"
   ]
  },
  {
   "cell_type": "code",
   "execution_count": 21,
   "metadata": {},
   "outputs": [
    {
     "name": "stdout",
     "output_type": "stream",
     "text": [
      "Varianza muestral: 2.225189740761169\n"
     ]
    },
    {
     "data": {
      "image/png": "[encoded data removed]",
      "text/plain": [
       "<Figure size 432x288 with 1 Axes>"
      ]
     },
     "metadata": {
      "needs_background": "light"
     },
     "output_type": "display_data"
    }
   ],
   "source": [
    "#Cargamos el archivo. \n",
    "data = np.genfromtxt('cumulos_globulares.dat', usecols=6) #Son magnitudes de estrellas en un cúmulo\n",
    "\n",
    "# data tiene NaNs, así que usamos solo los numéricos.\n",
    "data = data[~np.isnan(data)]\n",
    "\n",
    "n=len(data)  #defino n como el tamaño de la muestra\n",
    "\n",
    "xm= sum(data)/n               #Calculo la media muestral\n",
    "s2= sum((data-xm)**2)/(n-1)   #Calculo varianza muestral\n",
    "print('Varianza muestral:', s2)\n",
    "plt.hist(data)\n",
    "plt.title('Distribución muestral de la varianza')\n",
    "plt.xlabel('$S^2$')\n",
    "plt.ylabel('Frecuencia absoluta')\n",
    "plt.show()"
   ]
  },
  {
   "cell_type": "markdown",
   "metadata": {},
   "source": [
    "A continuación, se realizan remuestreos para aplicar el método de bootstrap y calcular el intervalo de confianza.\n",
    "\n",
    "Se pide al usuario que ingrese el numero de muestras nuevas aleatorias. Estas seran del mismo tamaño que la original. Para cada muestra se calcula la varianza muestral y se guardan en una lista.\n",
    "\n",
    "Abajo se grafica la distribución obtenida para la varianza para verla visualmente."
   ]
  },
  {
   "cell_type": "code",
   "execution_count": 23,
   "metadata": {},
   "outputs": [
    {
     "name": "stdout",
     "output_type": "stream",
     "text": [
      "Ingrese el numero de veces que desea realizar el remuestreo: 5000\n"
     ]
    },
    {
     "data": {
      "image/png": "[encoded data removed]",
      "text/plain": [
       "<Figure size 432x288 with 1 Axes>"
      ]
     },
     "metadata": {
      "needs_background": "light"
     },
     "output_type": "display_data"
    }
   ],
   "source": [
    "m=int(input(\"Ingrese el numero de veces que desea realizar el remuestreo: \"))\n",
    "var_mues=[]\n",
    "for i in range(m):\n",
    "    muestra_nueva=np.random.choice(data, size=n) #genera una muestra aleatoria a partir de un array de tamaño n\n",
    "    xm= sum(muestra_nueva)/n               #calculo media muestral\n",
    "    s2= sum((muestra_nueva-xm)**2)/(n-1)   #calculo varianza muestral\n",
    "    var_mues.append(s2)        \n",
    "\n",
    "\n",
    "#Grafico el histograma de las varianzas calculadas\n",
    "plt.hist(var_mues)\n",
    "plt.title('Distribución muestral de la varianza')\n",
    "plt.xlabel('$S^2$')\n",
    "plt.ylabel('Frecuencia absoluta')\n",
    "plt.show()"
   ]
  },
  {
   "cell_type": "markdown",
   "metadata": {},
   "source": [
    "A continuación, se quiere calcular los intervalos de confidencia del estimador de la varianza con un nivel de significancia $\\alpha$ dado. El intervalo de confianza va a estar definido entre los valores $(q_1, q_2)$, tal que el área bajo la curva de la distribución encerrada entre ellos es igual a $\\alpha$.\n",
    "\n",
    "Como en el histograma formado para la varianza se ve que la distribución que se forma es simétrica, se pide que el intervalo de confianza sea simétrico. Por lo tanto, las colas de la distribución (es decir $S^2<q_1$ y $S^2>q_2$), van a tener un área bajo la curva de valor $\\frac{1-\\alpha}{2}$ cada una. Luego, se buscan los valores de $q_1$ y $q_2$ que cumplan con lo siguiente:\n",
    "$$\\frac{N(S^2<q_1)}{B}=\\frac{1-\\alpha}{2}$$$$\\frac{N(S^2>q_2)}{B}=\\frac{1-\\alpha}{2}$$\n",
    "\n",
    "donde N() indica el número de valores de $S^2$ que cumplen esa codición.\n",
    "\n",
    "Programa para calcular q1:"
   ]
  },
  {
   "cell_type": "code",
   "execution_count": 24,
   "metadata": {},
   "outputs": [],
   "source": [
    "def IC_q1(var, a):   #a es alpha \n",
    "    var.sort()       #ordeno los valores de menor a mayor\n",
    "    suma=0\n",
    "    y=(1-a)/2        #condición que quiero que se cumpla\n",
    "    for i in range(len(var)):\n",
    "        x=var[i]     #defino como x el elemento i de la varianza\n",
    "        suma=suma+x  #los sumo\n",
    "        t=suma/(len(var))  #divido por la cantidad de muestras\n",
    "        if t<= y:\n",
    "            None\n",
    "        else:\n",
    "            q1=x\n",
    "            break\n",
    "    return q1\n",
    "\n",
    "\n",
    "def IC_q2(var, a): \n",
    "    var.sort(reverse=True) #ordeno los valores de mayor a menor\n",
    "    suma=0\n",
    "    y=(1-a)/2    \n",
    "    for i in range(len(var)):\n",
    "        x=var[i]     \n",
    "        suma=suma+x  \n",
    "        t=suma/(len(var))  \n",
    "        if t<= y:\n",
    "            None\n",
    "        else:\n",
    "            q2=x\n",
    "            break\n",
    "    return q2"
   ]
  },
  {
   "cell_type": "markdown",
   "metadata": {},
   "source": [
    "Como ejemplo, se toma el valor de $\\alpha$=0.95 y 0.9 para computar el valor final obtenido para la varianza con su intervalo de confianza."
   ]
  },
  {
   "cell_type": "code",
   "execution_count": 25,
   "metadata": {},
   "outputs": [
    {
     "name": "stdout",
     "output_type": "stream",
     "text": [
      "Ingrese el valor de significancia para el intervalo de confianza: 0.97\n",
      "Valor de q1= 1.5692221548078689\n",
      "Valor de q2= 2.989838021695166\n",
      "El valor que se obtiene para la varianza es  1.893542687074829 con un intervalo de confianza de ( 1.5692221548078689 , 2.989838021695166 ).\n"
     ]
    }
   ],
   "source": [
    "alfa=float(input(\"Ingrese el valor de significancia para el intervalo de confianza: \"))\n",
    "\n",
    "q1=IC_q1(var, a=alfa)\n",
    "print('Valor de q1=', q1)\n",
    "\n",
    "q2=IC_q2(var, a=alfa)\n",
    "print('Valor de q2=', q2)\n",
    "\n",
    "print('El valor que se obtiene para la varianza es ', s2, 'con un intervalo de confianza de (', q1, ',', q2,').')\n"
   ]
  },
  {
   "cell_type": "markdown",
   "metadata": {},
   "source": [
    "\n",
    "Conclusiones\n",
    "\n",
    "Por medio del método de remuestreo bootstrap se puede conocer la varianza de una variable aleatoria y una estimación de su incerteza de la cual no se tiene conocimiento sobre su distribución. Además se puede calcular un intervalo de confianza para un determinado valor de $\\alpha$ mediante el calculo de los límites inferiores y superiores del intervalo.\n",
    "\n",
    "Se puede ver que la distribución de la varianza tiene forma de campana centrada en el valor estimado de la varianza muestral, por lo que el intervalo de confianza es simétrico.\n"
   ]
  },
  {
   "cell_type": "code",
   "execution_count": null,
   "metadata": {},
   "outputs": [],
   "source": []
  }
 ],
 "metadata": {
  "kernelspec": {
   "display_name": "Python 3",
   "language": "python",
   "name": "python3"
  },
  "language_info": {
   "codemirror_mode": {
    "name": "ipython",
    "version": 3
   },
   "file_extension": ".py",
   "mimetype": "text/x-python",
   "name": "python",
   "nbconvert_exporter": "python",
   "pygments_lexer": "ipython3",
   "version": "3.7.3"
  }
 },
 "nbformat": 4,
 "nbformat_minor": 2
}
