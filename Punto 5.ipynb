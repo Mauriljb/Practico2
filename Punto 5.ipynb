{
 "cells": [
  {
   "cell_type": "markdown",
   "metadata": {},
   "source": [
    "Método de la transformada inversa: distribución de Poisson\n",
    "\n",
    "Simule la ocurrencia de eventos en un proceso de Poisson de tasa λ = 5/h, hasta un tiempo T=3 h. Para ello\n",
    "recuerde que los tiempos entre eventos siguen una distribución exponencial. Utilice el método de la función\n",
    "inversa para generar los valores de los saltos."
   ]
  },
  {
   "cell_type": "code",
   "execution_count": 6,
   "metadata": {},
   "outputs": [],
   "source": [
    "import numpy as np\n",
    "import matplotlib.pyplot as plt\n",
    "from scipy import stats\n",
    "import math\n",
    "import random"
   ]
  },
  {
   "cell_type": "code",
   "execution_count": 7,
   "metadata": {},
   "outputs": [
    {
     "data": {
      "text/plain": [
       "1.0254159701743182"
      ]
     },
     "execution_count": 7,
     "metadata": {},
     "output_type": "execute_result"
    }
   ],
   "source": [
    "u=random.random()\n",
    "x=-math.log(u)\n",
    "x"
   ]
  },
  {
   "cell_type": "code",
   "execution_count": 15,
   "metadata": {},
   "outputs": [
    {
     "name": "stdout",
     "output_type": "stream",
     "text": [
      "0.09136827173188616 1\n",
      "0.18273654346377233 2\n",
      "0.2741048151956585 3\n",
      "0.36547308692754465 4\n",
      "0.4568413586594308 5\n",
      "0.548209630391317 6\n",
      "0.6395779021232031 7\n",
      "0.7309461738550893 8\n",
      "0.8223144455869755 9\n",
      "0.9136827173188617 10\n",
      "1.005050989050748 11\n",
      "1.0964192607826342 12\n",
      "1.1877875325145204 13\n",
      "1.2791558042464066 14\n",
      "1.3705240759782928 15\n",
      "1.461892347710179 16\n",
      "1.5532606194420653 17\n",
      "1.6446288911739515 18\n",
      "1.7359971629058377 19\n",
      "1.827365434637724 20\n",
      "1.9187337063696102 21\n",
      "2.0101019781014964 22\n",
      "2.1014702498333824 23\n",
      "2.1928385215652684 24\n",
      "2.2842067932971544 25\n",
      "2.3755750650290404 26\n",
      "2.4669433367609264 27\n",
      "2.5583116084928124 28\n",
      "2.6496798802246984 29\n",
      "2.7410481519565844 30\n",
      "2.8324164236884704 31\n",
      "2.9237846954203563 32\n",
      "3.0151529671522423 33\n"
     ]
    },
    {
     "data": {
      "text/plain": [
       "[<matplotlib.lines.Line2D at 0x7f9337077b70>]"
      ]
     },
     "execution_count": 15,
     "metadata": {},
     "output_type": "execute_result"
    },
    {
     "data": {
      "image/png": "[encoded data removed]",
      "text/plain": [
       "<Figure size 432x288 with 1 Axes>"
      ]
     },
     "metadata": {
      "needs_background": "light"
     },
     "output_type": "display_data"
    }
   ],
   "source": [
    "t,i=0,0\n",
    "eventos=[]\n",
    "numero=[]\n",
    "u=random.random()\n",
    "while t<3:\n",
    "    t=t-(1/5)*math.log(u)\n",
    "    i=i+1\n",
    "    eventos.append(t)\n",
    "    numero.append(i)\n",
    "    print(t,i)\n",
    "plt.plot(numero,eventos)"
   ]
  },
  {
   "cell_type": "code",
   "execution_count": null,
   "metadata": {},
   "outputs": [],
   "source": []
  }
 ],
 "metadata": {
  "kernelspec": {
   "display_name": "Python 3",
   "language": "python",
   "name": "python3"
  },
  "language_info": {
   "codemirror_mode": {
    "name": "ipython",
    "version": 3
   },
   "file_extension": ".py",
   "mimetype": "text/x-python",
   "name": "python",
   "nbconvert_exporter": "python",
   "pygments_lexer": "ipython3",
   "version": "3.7.3"
  }
 },
 "nbformat": 4,
 "nbformat_minor": 2
}
