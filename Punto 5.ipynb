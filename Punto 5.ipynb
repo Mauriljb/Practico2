{
 "cells": [
  {
   "cell_type": "code",
   "execution_count": 4,
   "metadata": {},
   "outputs": [],
   "source": [
    "import numpy as np\n",
    "import matplotlib.pyplot as plt\n",
    "from scipy import stats\n",
    "import math\n",
    "import random"
   ]
  },
  {
   "cell_type": "code",
   "execution_count": 21,
   "metadata": {},
   "outputs": [
    {
     "name": "stdout",
     "output_type": "stream",
     "text": [
      "0.1855468364892855 0.14037389581428056 0.2650259152973617\n"
     ]
    }
   ],
   "source": [
    "x=random.random()\n",
    "i=0\n",
    "p=math.exp(-5)\n",
    "F=p\n",
    "for i in range(5):\n",
    "    if x<F:\n",
    "        n=i\n",
    "    else:\n",
    "        p=5*p/(i+1)\n",
    "        F=F+p\n",
    "        i=i+1\n",
    "    \n",
    "print(x,p,F)"
   ]
  },
  {
   "cell_type": "code",
   "execution_count": null,
   "metadata": {},
   "outputs": [],
   "source": []
  }
 ],
 "metadata": {
  "kernelspec": {
   "display_name": "Python 3",
   "language": "python",
   "name": "python3"
  },
  "language_info": {
   "codemirror_mode": {
    "name": "ipython",
    "version": 3
   },
   "file_extension": ".py",
   "mimetype": "text/x-python",
   "name": "python",
   "nbconvert_exporter": "python",
   "pygments_lexer": "ipython3",
   "version": "3.7.3"
  }
 },
 "nbformat": 4,
 "nbformat_minor": 2
}
