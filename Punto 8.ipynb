{
 "cells": [
  {
   "cell_type": "markdown",
   "metadata": {},
   "source": [
    "Metodo de montecarlo para estimar pi a traves del problema de la aguja de Buffon"
   ]
  },
  {
   "cell_type": "code",
   "execution_count": 31,
   "metadata": {},
   "outputs": [],
   "source": [
    "import math\n",
    "import random"
   ]
  },
  {
   "cell_type": "markdown",
   "metadata": {},
   "source": [
    "Experimento de la aguja de Buffon\n",
    "\n",
    "En este experimento se tiene una mesa con rayas paralelas y equiespaciadas, separadas por una distancia 't'. Se lanza una aguja de largo 'l' sobre la mesa, que cae en una ubicación aleatoria (uniforme) sobre ella, a una distancia 'X' de la raya más cercana (medida desde el centro de la aguja) y con una orientación también aleatoria '$\\theta$' dada por el ángulo agudo que forma la aguja con la dirección de las rayas paralelas de la mesa.\n",
    "\n",
    "(a) Escriba la función densidad de probabilidad de que la aguja caiga con parámetros $(x,\\theta)$\n",
    "\n",
    "Al caer en una ubicación aleatoria uniforme, se puede ver que la variable X cae con una distribución uniforme en $[0,\\frac{t}{2}]$, ya que no puede ser mayor a la mitad de la separación entre las rayas.\n",
    "\n",
    "Mientras que la variable $\\theta$, al estar definida por el ángulo agudo que forma la aguja, tiene una distribución uniforme en $[0,\\frac{\\pi}{2}]$\n",
    "\n",
    "Luego, las funciones densidades de probabilidad de cada variable son: $$f(x)=\\frac{2}{t}$$\n",
    "$$f(\\theta)=\\frac{2}{\\pi}$$\n",
    "\n",
    "Como son variables independientes, la función de probabilidad conjunta es: $$f(x,\\theta)=f(x).f(\\theta)=\\frac{4}{t\\pi}$$\n",
    "\n",
    "(b) Suponga que $l<t$, ¿Cuál es la probabilidad de que la aguja toque una raya?\n",
    "\n",
    "Se quiere conocer cuál es la probabilidad de que la aguja toque una de las rayas, suponiendo que $l<t$.\n",
    "\n",
    "Para este inciso se supone que se tira la aguja y cae con el triángulo límite formado por el ángulo $\\theta^*, x$ y $\\frac{l}{2}$, tal que si $\\theta \\geq \\theta^*$, entonces la aguja toca una de las rayas, caso contrario no.\n",
    "\n",
    "Por trigonometría se tiene:\n",
    "$$sen(\\theta) \\geq sen(\\theta^*) = \\frac{2x}{l}$$\n",
    "\n",
    "Entonces, se obtiene la siguiente relación entre las variables, la cual si se cumple indica que la aguja toca una raya de la mesa.\n",
    "$$x\\leq \\frac{l.sen(\\theta)}{2}$$\n",
    "\n",
    "(Ec 1)\n",
    "\n",
    "Se quiere encontrar la probabilidad con la que la variable aleatoria $x$ sea igual o menor a la relación dada por la Ec 1., esto se cuantifica con la función de distribución de probabilidades acumuladas para $x\\leq \\frac{l.sen(\\theta)}{2}$.\n",
    "\n",
    "Luego, se debe resolver:\n",
    "$$F(X\\leq \\frac{l.sen(\\theta)}{2})= \\int \\int f(x,\\theta) dx d\\theta $$\n",
    "\n",
    "donde $f(x,\\theta)$ es la que se vió en el inciso (a) y se tiene en cuenta de integrar primero x entre 0 y $\\frac{l.sen(\\theta)}{2}$, y luego $\\theta$ entre 0 y $\\frac{\\pi}{2}$.\n",
    "\n",
    "Así se obtiene:\n",
    "$$F(x\\leq \\frac{l.sen(\\theta)}{2})= \\frac{2l}{t\\pi}$$\n",
    "\n",
    "(Ec. 2)\n",
    "(c) Estimar el número $\\pi$.\n",
    "\n",
    "La idea es realizar un programa que simule arrojar una aguja y determinar si cruza alguna de las rayas paralelas. Luego se utiliza la probabilidad clásica para estimar $\\pi$ a partir de muchas realizaciones del experimento. Cualquier simulación que se base en un muestreo aleatorio para obtener resultados, como este procedimiento se incluye en la categoría de los métodos de Monte Carlo.\n",
    "\n",
    "Primero se comienza definiendo la función 'buffon' que lanza 'n' veces la aguja y usando la condición dada por Ec 1, cuenta el número de veces que la aguja toca una raya.\n",
    "\n",
    "Dado que si se lanzan n veces la aguja y $n_0$ veces toca una raya, se tiene que la probabilidad de que la aguja toque una raya es:\n",
    "$$P=\\frac{n_0}{n}$$\n",
    "\n",
    "(Ec. 3)\n",
    "\n",
    "Luego, igualando las dos probabilidades obtenidas (Ec 2 y 3) se tiene que:\n",
    "$$\\pi=\\frac{2.l. n}{t. n_0}$$"
   ]
  },
  {
   "cell_type": "code",
   "execution_count": 32,
   "metadata": {},
   "outputs": [
    {
     "name": "stdout",
     "output_type": "stream",
     "text": [
      "Experimento de la aguja de buffon.\n",
      "Ingrese separacion de lineas: 30\n",
      "Ingrese largo de la aguja (tiene que ser menor que la separacion entre lineas): 20\n",
      "ingrese numero de veces a repetir el experimento: 2000\n",
      "ingresar la cantidad de veces a calcular pi: 50\n"
     ]
    }
   ],
   "source": [
    "print(\"Experimento de la aguja de buffon.\")\n",
    "t=float(input(\"Ingrese separacion de lineas: \"))\n",
    "l=float(input(\"Ingrese largo de la aguja (tiene que ser menor que la separacion entre lineas): \"))\n",
    "assert l<t, \"El largo de la aguja debe ser menor que la separacion entre lineas\"\n",
    "n=int(input(\"ingrese numero de veces a repetir el experimento: \"))\n",
    "m=int(input(\"ingresar la cantidad de veces a calcular pi: \"))"
   ]
  },
  {
   "cell_type": "code",
   "execution_count": 33,
   "metadata": {},
   "outputs": [
    {
     "name": "stdout",
     "output_type": "stream",
     "text": [
      "3.0828516377649327\n",
      "3.108003108003108\n",
      "3.1262211801484954\n",
      "3.1483667847304213\n",
      "3.236245954692557\n",
      "3.1483667847304213\n",
      "2.969561989606533\n",
      "3.228410008071025\n",
      "3.189792663476874\n",
      "3.1483667847304213\n",
      "3.1783869686134287\n",
      "3.1189083820662766\n",
      "3.284072249589491\n",
      "3.0303030303030303\n",
      "3.0616150019135095\n",
      "3.1116297160637885\n",
      "3.1520882584712373\n",
      "3.1746031746031744\n",
      "3.1298904538341157\n",
      "3.3208800332088004\n",
      "3.0441400304414\n",
      "3.1670625494853524\n",
      "2.959674435812061\n",
      "3.2441200324412005\n",
      "3.2323232323232323\n",
      "3.1335683509596555\n",
      "3.1746031746031744\n",
      "3.10077519379845\n",
      "3.1746031746031744\n",
      "3.2639738882088944\n",
      "3.2051282051282053\n",
      "3.0616150019135095\n",
      "3.1483667847304213\n",
      "3.1670625494853524\n",
      "3.1520882584712373\n",
      "3.058103975535168\n",
      "3.108003108003108\n",
      "3.21285140562249\n",
      "3.2441200324412005\n",
      "3.284072249589491\n",
      "3.3003300330033003\n",
      "3.1116297160637885\n",
      "3.0234315948601664\n",
      "3.1974420463629096\n",
      "3.040668947168377\n",
      "3.2206119162640903\n",
      "3.362757461118117\n",
      "3.1821797931583133\n",
      "2.9962546816479403\n",
      "3.1335683509596555\n"
     ]
    }
   ],
   "source": [
    "def buffon(t,l,n):\n",
    "    h=0\n",
    "    for i in range(n):\n",
    "        u=random.random()*t/2 #vamos a usar primero t=2, despues para mejorarlo vamos a pedir que el usuario ingrese el valor de t\n",
    "        q=random.random()*math.pi/2\n",
    "        if u<=l*math.sin(q)/2:#el largo de la aguja va a ser 1.6\n",
    "            h=h+1\n",
    "    pi=2*l*n/(t*h)\n",
    "    return pi\n",
    "for i in range(m):\n",
    "    valorpi=buffon(t,l,n)\n",
    "    print(valorpi)"
   ]
  },
  {
   "cell_type": "markdown",
   "metadata": {},
   "source": [
    "Podemos ver que en todos los casos se obtienen valores aproximados al valor real de pi, en la proxima actualizacion se hará un estudio estadistico de los valores obtenidos.\n",
    "\n",
    "Conclusiones\n",
    "\n",
    "Por medio del problema de la \"aguja de Buffon\" se logra determinar un valor aproximado de $\\pi$, realizando un programa que simule tal experimento repetidas veces y cuente el número de veces que la aguja toca una raya. \n"
   ]
  },
  {
   "cell_type": "code",
   "execution_count": null,
   "metadata": {},
   "outputs": [],
   "source": []
  }
 ],
 "metadata": {
  "kernelspec": {
   "display_name": "Python 3",
   "language": "python",
   "name": "python3"
  },
  "language_info": {
   "codemirror_mode": {
    "name": "ipython",
    "version": 3
   },
   "file_extension": ".py",
   "mimetype": "text/x-python",
   "name": "python",
   "nbconvert_exporter": "python",
   "pygments_lexer": "ipython3",
   "version": "3.7.3"
  }
 },
 "nbformat": 4,
 "nbformat_minor": 2
}
