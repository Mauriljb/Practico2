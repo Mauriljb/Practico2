{
 "cells": [
  {
   "cell_type": "markdown",
   "metadata": {},
   "source": [
    "Diseñe, implemente y verifique una función que calcule el test de “chi-cuadrado” para comparar un histograma\n",
    "H con un modelo dado por una distribución Binomial, f (x) ∼ B(n = 10, p = 0.4).\n",
    "Para ello, realice los siguientes puntos:\n",
    "    \n",
    "(a) Simule 100 observaciones de la V.A. binomial y calcule las frecuencias de cada valor.\n",
    "\n",
    "(b) Calcule el estadı́stico χ 2 a partir del modelo y de los datos simulados.\n",
    "\n",
    "(c) Realice una prueba de hipótesis completa para decidir si los datos están en acuerdo con el modelo.(d) Calcule el valor-p de la prueba.\n",
    "\n",
    "(e) Simule muestras de 100 observaciones de una V.A. N(μ, σ), con σ=2.5 y μ que varı́e entre 2 y 7. Estudie\n",
    "cómo varı́a el valor-p y determine si en algún rango de μ se puede “confundir” el modelo.\n",
    "\n",
    "(f) Simule una muestra de 10000 realizaciones de una V.A. con f (x) ∼ B(n = 1000, p = 0.4) y repita el punto\n",
    "anterior."
   ]
  },
  {
   "cell_type": "code",
   "execution_count": 146,
   "metadata": {},
   "outputs": [],
   "source": [
    "import matplotlib.pyplot as plt\n",
    "import math\n",
    "from scipy import stats\n",
    "import random\n",
    "import numpy as np"
   ]
  },
  {
   "cell_type": "markdown",
   "metadata": {},
   "source": [
    "Primero simulamos 100 observaciones."
   ]
  },
  {
   "cell_type": "code",
   "execution_count": 147,
   "metadata": {},
   "outputs": [],
   "source": [
    "exitos=[]\n",
    "frecuencias=np.zeros(10)\n",
    "e,f=0,0"
   ]
  },
  {
   "cell_type": "code",
   "execution_count": 148,
   "metadata": {},
   "outputs": [
    {
     "name": "stdout",
     "output_type": "stream",
     "text": [
      "[ 1.  6. 10. 23. 26. 13. 15.  5.  0.  1.] [3, 6, 3, 4, 4, 2, 5, 5, 2, 7, 7, 4, 6, 1, 3, 3, 2, 3, 3, 4, 3, 1, 3, 3, 6, 4, 2, 5, 4, 5, 6, 2, 0, 6, 5, 2, 3, 5, 4, 4, 6, 6, 4, 7, 3, 5, 4, 4, 4, 2, 3, 4, 4, 3, 3, 6, 6, 5, 6, 6, 5, 4, 2, 4, 2, 3, 3, 4, 3, 4, 1, 5, 3, 4, 4, 1, 5, 3, 3, 5, 3, 1, 4, 2, 4, 6, 6, 5, 9, 4, 6, 7, 3, 4, 1, 4, 6, 4, 3, 7]\n"
     ]
    }
   ],
   "source": [
    "\n",
    "for j in range(100):\n",
    "    e=0\n",
    "    for i in range(10):\n",
    "        x=random.random()\n",
    "        if x<=0.4:\n",
    "            e=e+1\n",
    "    exitos.append(e)\n",
    "    frecuencias[e]=frecuencias[e]+1\n",
    "print(frecuencias,exitos)\n"
   ]
  },
  {
   "cell_type": "markdown",
   "metadata": {},
   "source": [
    "Para el punto b tenemos que el modelo es una distribucion binomial con n=10 y p=0.4"
   ]
  },
  {
   "cell_type": "code",
   "execution_count": 149,
   "metadata": {},
   "outputs": [
    {
     "name": "stdout",
     "output_type": "stream",
     "text": [
      "[ 0.60466176  4.0310784  12.0932352  21.4990848  25.0822656  20.06581248\n",
      " 11.1476736   4.2467328   1.0616832   0.1572864 ]\n"
     ]
    },
    {
     "data": {
      "image/png": "[encoded data removed]",
      "text/plain": [
       "<Figure size 432x288 with 1 Axes>"
      ]
     },
     "metadata": {
      "needs_background": "light"
     },
     "output_type": "display_data"
    }
   ],
   "source": [
    "teorica=stats.binom(10, 0.4)\n",
    "x = np.arange(teorica.ppf(0.001),\n",
    "              teorica.ppf(1))\n",
    "prob=teorica.pmf(x)*100\n",
    "plt.plot(x, prob)\n",
    "print(prob)"
   ]
  },
  {
   "cell_type": "code",
   "execution_count": 150,
   "metadata": {},
   "outputs": [
    {
     "name": "stdout",
     "output_type": "stream",
     "text": [
      "11.250618003910194\n"
     ]
    }
   ],
   "source": [
    "chi=0\n",
    "for i in range(10):\n",
    "    chi=chi+((frecuencias[i]-prob[i])**2/prob[i])\n",
    "print(chi)"
   ]
  },
  {
   "cell_type": "code",
   "execution_count": null,
   "metadata": {},
   "outputs": [],
   "source": []
  },
  {
   "cell_type": "code",
   "execution_count": null,
   "metadata": {},
   "outputs": [],
   "source": []
  }
 ],
 "metadata": {
  "kernelspec": {
   "display_name": "Python 3",
   "language": "python",
   "name": "python3"
  },
  "language_info": {
   "codemirror_mode": {
    "name": "ipython",
    "version": 3
   },
   "file_extension": ".py",
   "mimetype": "text/x-python",
   "name": "python",
   "nbconvert_exporter": "python",
   "pygments_lexer": "ipython3",
   "version": "3.7.3"
  }
 },
 "nbformat": 4,
 "nbformat_minor": 2
}
