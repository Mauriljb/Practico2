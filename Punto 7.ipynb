{
 "cells": [
  {
   "cell_type": "markdown",
   "metadata": {},
   "source": [
    "Método de Box-Muller para generar una V.A. con distribución normal.\n",
    "\n",
    "1) Explique el desarrollo teórico del método\n",
    "\n",
    "2) Desarrolle un programa para generar variables aleatorias normales utilizando el método de Box-Muller\n",
    "\n",
    "3) Mejorar la eficiencia del código generando pares de números aleatorios (X,Y) dentro del cı́rculo de radio unidad."
   ]
  },
  {
   "cell_type": "markdown",
   "metadata": {},
   "source": [
    "1) El método de Box-Muller consiste en generar variables aleatorias con distribución normal. En el caso de la distribución normal no puede realizarse el metodo de la transdormación inversa, pues la funcion que buscamos no es invertible. Asimismo tampoco se puede usar el metodo de rechazo, pues no se puede acotar los valores de las variables a una caja, porque van de menos infinito a mas infinito (Zandivares 2015, Apuntes de Astrometría).\n",
    "El método de Box-Muller se \n"
   ]
  }
 ],
 "metadata": {
  "kernelspec": {
   "display_name": "Python 3",
   "language": "python",
   "name": "python3"
  },
  "language_info": {
   "codemirror_mode": {
    "name": "ipython",
    "version": 3
   },
   "file_extension": ".py",
   "mimetype": "text/x-python",
   "name": "python",
   "nbconvert_exporter": "python",
   "pygments_lexer": "ipython3",
   "version": "3.7.3"
  }
 },
 "nbformat": 4,
 "nbformat_minor": 2
}
