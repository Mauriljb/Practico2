{
 "cells": [
  {
   "cell_type": "markdown",
   "metadata": {},
   "source": [
    "Método de Box-Muller para generar una V.A. con distribución normal.\n",
    "\n",
    "1) Explique el desarrollo teórico del método\n",
    "\n",
    "2) Desarrolle un programa para generar variables aleatorias normales utilizando el método de Box-Muller\n",
    "\n",
    "3) Mejorar la eficiencia del código generando pares de números aleatorios (X,Y) dentro del cı́rculo de radio unidad."
   ]
  },
  {
   "cell_type": "markdown",
   "metadata": {},
   "source": [
    "1) El método de Box-Muller consiste en generar variables aleatorias con distribución normal. En el caso de la distribución normal no puede realizarse el metodo de la transdormación inversa, pues la funcion que buscamos no es invertible. Asimismo tampoco se puede usar el metodo de rechazo, pues no se puede acotar los valores de las variables a una caja, porque van de menos infinito a mas infinito (Zandivares 2015, Apuntes de Astrometría).\n",
    "El método de Box-Muller se \n"
   ]
  },
  {
   "cell_type": "code",
   "execution_count": 38,
   "metadata": {},
   "outputs": [],
   "source": [
    "import random\n",
    "import math\n",
    "import numpy as no\n",
    "from scipy import stats"
   ]
  },
  {
   "cell_type": "code",
   "execution_count": 39,
   "metadata": {},
   "outputs": [
    {
     "name": "stdout",
     "output_type": "stream",
     "text": [
      "-0.42976829255805343 0.8389395319128509\n"
     ]
    }
   ],
   "source": [
    "u1=random.random()\n",
    "u2=random.random()\n",
    "x=math.sqrt(-2*math.log(u1))*math.cos(2*math.pi*u2)\n",
    "y=math.sqrt(-2*math.log(u1))*math.sin(2*math.pi*u2)\n",
    "print(x,y)"
   ]
  },
  {
   "cell_type": "code",
   "execution_count": 74,
   "metadata": {},
   "outputs": [
    {
     "name": "stdout",
     "output_type": "stream",
     "text": [
      "0.6114584077167398 -0.23404793133853577 0.9638663039059788\n"
     ]
    }
   ],
   "source": [
    "u1=random.random()\n",
    "u2=random.random()\n",
    "v1=2*u1-1\n",
    "v2=2*u2-1\n",
    "s=v1**2+v2**2\n",
    "X=math.sqrt(-2*math.log(s)/s)*v1\n",
    "Y=math.sqrt(-2*math.log(s)/s)*v2\n",
    "print(s,X,Y)"
   ]
  },
  {
   "cell_type": "code",
   "execution_count": null,
   "metadata": {},
   "outputs": [],
   "source": []
  },
  {
   "cell_type": "code",
   "execution_count": null,
   "metadata": {},
   "outputs": [],
   "source": []
  }
 ],
 "metadata": {
  "kernelspec": {
   "display_name": "Python 3",
   "language": "python",
   "name": "python3"
  },
  "language_info": {
   "codemirror_mode": {
    "name": "ipython",
    "version": 3
   },
   "file_extension": ".py",
   "mimetype": "text/x-python",
   "name": "python",
   "nbconvert_exporter": "python",
   "pygments_lexer": "ipython3",
   "version": "3.7.3"
  }
 },
 "nbformat": 4,
 "nbformat_minor": 2
}
